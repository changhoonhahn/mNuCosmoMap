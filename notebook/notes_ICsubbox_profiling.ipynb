{
 "cells": [
  {
   "cell_type": "code",
   "execution_count": 2,
   "metadata": {},
   "outputs": [],
   "source": [
    "import os\n",
    "import numpy as np\n",
    "\n",
    "from mnucosmomap import util as UT\n",
    "from mnucosmomap import catalogs as mNuCats"
   ]
  },
  {
   "cell_type": "code",
   "execution_count": 17,
   "metadata": {},
   "outputs": [],
   "source": [
    "%load_ext line_profiler"
   ]
  },
  {
   "cell_type": "code",
   "execution_count": 18,
   "metadata": {},
   "outputs": [],
   "source": [
    "fullbox = mNuCats.mNuICs(1, sim='paco')\n",
    "x, y, z = fullbox['Position'].T\n",
    "vx, vy, vz = fullbox['Velocity'].T\n",
    "\n",
    "nside = 8\n",
    "L_subbox = 1000./float(nside) # L_subbox\n",
    "L_res = 1000./512.\n",
    "L_halfres = 0.5 * L_res\n",
    "N_partside = 512/nside\n",
    "N_subbox = (N_partside)**3"
   ]
  },
  {
   "cell_type": "code",
   "execution_count": 10,
   "metadata": {},
   "outputs": [],
   "source": [
    "def method1(isubbox): \n",
    "    i_x = ((isubbox % nside**2) % nside) \n",
    "    i_y = ((isubbox % nside**2) // nside) \n",
    "    i_z = (isubbox // nside**2) \n",
    "\n",
    "    xmin = L_subbox * float(i_x) + L_halfres\n",
    "    xmax = (L_subbox * float(i_x+1) + L_halfres) % 1000.\n",
    "    ymin = L_subbox * float(i_y) + L_halfres\n",
    "    ymax = (L_subbox * float(i_y+1) + L_halfres) % 1000.\n",
    "    zmin = L_subbox * float(i_z) + L_halfres\n",
    "    zmax = (L_subbox * float(i_z+1) + L_halfres) % 1000.\n",
    "    if xmin <= xmax: xlim = ((x >= xmin) & (x < xmax))\n",
    "    else: xlim = ((x >= xmin) | (x < xmax))\n",
    "    if ymin <= ymax: ylim = ((y >= ymin) & (y < ymax))\n",
    "    else: ylim = ((y >= ymin) | (y < ymax))\n",
    "    if zmin <= zmax: zlim = ((z >= zmin) & (z < zmax))\n",
    "    else: zlim = ((z >= zmin) | (z < zmax))\n",
    "    in_subbox = (xlim & ylim & zlim)\n",
    "    assert np.sum(in_subbox) == N_subbox\n",
    "\n",
    "    ID_sub = fullbox['ID'][in_subbox]\n",
    "    x_subbox = x[in_subbox]\n",
    "    y_subbox = y[in_subbox]\n",
    "    z_subbox = z[in_subbox]\n",
    "    x_sub = (x_subbox - i_x * L_subbox) % 1000.\n",
    "    y_sub = (y_subbox - i_y * L_subbox) % 1000.\n",
    "    z_sub = (z_subbox - i_z * L_subbox) % 1000.\n",
    "\n",
    "    vx_subbox = vx[in_subbox]\n",
    "    vy_subbox = vy[in_subbox]\n",
    "    vz_subbox = vz[in_subbox]\n",
    "    subbox_ID = np.zeros((N_partside, N_partside, N_partside))\n",
    "    subbox_pos = np.zeros((3, N_partside, N_partside, N_partside))\n",
    "    subbox_vel = np.zeros((3, N_partside, N_partside, N_partside))\n",
    "    for j_z in range(N_partside): \n",
    "        #print('j_z = %i , %f < z < %f' % (j_z, L_res* float(j_z) + L_halfres, L_res * float(j_z + 1) + L_halfres))\n",
    "        zlim_sub = ((z_sub > L_res* float(j_z) + L_halfres) & \n",
    "                (z_sub < L_res * float(j_z + 1) + L_halfres))\n",
    "        for j_y in range(N_partside): \n",
    "            #print('j_y = %i , %f < y < %f' % (j_y, L_res* float(j_y) + L_halfres, L_res * float(j_y + 1) + L_halfres))\n",
    "            ylim_sub = ((y_sub > L_res * float(j_y) + L_halfres) & \n",
    "                    (y_sub < L_res * float(j_y + 1) + L_halfres))\n",
    "            #for j_x in range(N_partside): \n",
    "            j_x_sorted = np.argsort(x_sub[ylim_sub & zlim_sub])\n",
    "            subbox_ID[:,j_y,j_z] = ID_sub[ylim_sub & zlim_sub][j_x_sorted]\n",
    "            subbox_pos[0,:,j_y,j_z] = x_subbox[ylim_sub & zlim_sub][j_x_sorted]\n",
    "            subbox_pos[1,:,j_y,j_z] = y_subbox[ylim_sub & zlim_sub][j_x_sorted]\n",
    "            subbox_pos[2,:,j_y,j_z] = z_subbox[ylim_sub & zlim_sub][j_x_sorted]\n",
    "            subbox_vel[0,:,j_y,j_z] = vx_subbox[ylim_sub & zlim_sub][j_x_sorted]\n",
    "            subbox_vel[1,:,j_y,j_z] = vy_subbox[ylim_sub & zlim_sub][j_x_sorted]\n",
    "            subbox_vel[2,:,j_y,j_z] = vz_subbox[ylim_sub & zlim_sub][j_x_sorted]\n",
    "    return None"
   ]
  },
  {
   "cell_type": "code",
   "execution_count": 11,
   "metadata": {},
   "outputs": [],
   "source": [
    "def method2(isubbox): \n",
    "    i_x = ((isubbox % nside**2) % nside) \n",
    "    i_y = ((isubbox % nside**2) // nside) \n",
    "    i_z = (isubbox // nside**2) \n",
    "\n",
    "    xmin = L_subbox * float(i_x) + L_halfres\n",
    "    xmax = (L_subbox * float(i_x+1) + L_halfres) % 1000.\n",
    "    ymin = L_subbox * float(i_y) + L_halfres\n",
    "    ymax = (L_subbox * float(i_y+1) + L_halfres) % 1000.\n",
    "    zmin = L_subbox * float(i_z) + L_halfres\n",
    "    zmax = (L_subbox * float(i_z+1) + L_halfres) % 1000.\n",
    "    if xmin <= xmax: xlim = ((x >= xmin) & (x < xmax))\n",
    "    else: xlim = ((x >= xmin) | (x < xmax))\n",
    "    if ymin <= ymax: ylim = ((y >= ymin) & (y < ymax))\n",
    "    else: ylim = ((y >= ymin) | (y < ymax))\n",
    "    if zmin <= zmax: zlim = ((z >= zmin) & (z < zmax))\n",
    "    else: zlim = ((z >= zmin) | (z < zmax))\n",
    "    in_subbox = (xlim & ylim & zlim)\n",
    "    assert np.sum(in_subbox) == N_subbox\n",
    "\n",
    "    ID_sub = fullbox['ID'][in_subbox]\n",
    "    x_subbox = x[in_subbox]\n",
    "    y_subbox = y[in_subbox]\n",
    "    z_subbox = z[in_subbox]\n",
    "    x_sub = (x_subbox - i_x * L_subbox) % 1000.\n",
    "    y_sub = (y_subbox - i_y * L_subbox) % 1000.\n",
    "    z_sub = (z_subbox - i_z * L_subbox) % 1000.\n",
    "\n",
    "    vx_subbox = vx[in_subbox]\n",
    "    vy_subbox = vy[in_subbox]\n",
    "    vz_subbox = vz[in_subbox]\n",
    "    \n",
    "    subbox_ID = np.zeros((N_partside, N_partside, N_partside))\n",
    "    subbox_pos = np.zeros((3, N_partside, N_partside, N_partside))\n",
    "    subbox_vel = np.zeros((3, N_partside, N_partside, N_partside))\n",
    "\n",
    "    j_x = ((x_sub - L_halfres) // L_res).astype(int) \n",
    "    j_y = ((y_sub - L_halfres) // L_res).astype(int) \n",
    "    j_z = ((z_sub - L_halfres) // L_res).astype(int) \n",
    "    subbox_ID[j_x,j_y,j_z] = ID_sub\n",
    "    subbox_pos[0,j_x,j_y,j_z] = x_subbox\n",
    "    subbox_pos[1,j_x,j_y,j_z] = y_subbox\n",
    "    subbox_pos[2,j_x,j_y,j_z] = z_subbox\n",
    "    subbox_vel[0,j_x,j_y,j_z] = vx_subbox\n",
    "    subbox_vel[1,j_x,j_y,j_z] = vy_subbox\n",
    "    subbox_vel[2,j_x,j_y,j_z] = vz_subbox\n",
    "    return None"
   ]
  },
  {
   "cell_type": "code",
   "execution_count": 26,
   "metadata": {},
   "outputs": [
    {
     "name": "stdout",
     "output_type": "stream",
     "text": [
      "3 loops, best of 3: 6.43 s per loop\n"
     ]
    }
   ],
   "source": [
    "%timeit -n 3 method1(0)"
   ]
  },
  {
   "cell_type": "code",
   "execution_count": 27,
   "metadata": {},
   "outputs": [
    {
     "name": "stdout",
     "output_type": "stream",
     "text": [
      "3 loops, best of 3: 2.21 s per loop\n"
     ]
    }
   ],
   "source": [
    "%timeit -n 3 method2(0)"
   ]
  },
  {
   "cell_type": "code",
   "execution_count": null,
   "metadata": {},
   "outputs": [],
   "source": []
  }
 ],
 "metadata": {
  "kernelspec": {
   "display_name": "Python 2",
   "language": "python",
   "name": "python2"
  },
  "language_info": {
   "codemirror_mode": {
    "name": "ipython",
    "version": 2
   },
   "file_extension": ".py",
   "mimetype": "text/x-python",
   "name": "python",
   "nbconvert_exporter": "python",
   "pygments_lexer": "ipython2",
   "version": "2.7.14"
  }
 },
 "nbformat": 4,
 "nbformat_minor": 2
}
