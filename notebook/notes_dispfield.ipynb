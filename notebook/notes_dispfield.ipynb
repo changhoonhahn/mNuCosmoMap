{
 "cells": [
  {
   "cell_type": "markdown",
   "metadata": {},
   "source": [
    "Trying to figure out the displacement field of Paco's simulations"
   ]
  },
  {
   "cell_type": "code",
   "execution_count": 1,
   "metadata": {},
   "outputs": [
    {
     "ename": "ImportError",
     "evalue": "No module named mnucosmomap",
     "output_type": "error",
     "traceback": [
      "\u001b[0;31m\u001b[0m",
      "\u001b[0;31mImportError\u001b[0mTraceback (most recent call last)",
      "\u001b[0;32m<ipython-input-1-98c0a43a0d84>\u001b[0m in \u001b[0;36m<module>\u001b[0;34m()\u001b[0m\n\u001b[1;32m      1\u001b[0m \u001b[0;32mimport\u001b[0m \u001b[0mnumpy\u001b[0m \u001b[0;32mas\u001b[0m \u001b[0mnp\u001b[0m\u001b[0;34m\u001b[0m\u001b[0m\n\u001b[1;32m      2\u001b[0m \u001b[0;31m# --- mnucosmomap ---\u001b[0m\u001b[0;34m\u001b[0m\u001b[0;34m\u001b[0m\u001b[0m\n\u001b[0;32m----> 3\u001b[0;31m \u001b[0;32mfrom\u001b[0m \u001b[0mmnucosmomap\u001b[0m \u001b[0;32mimport\u001b[0m \u001b[0mcatalogs\u001b[0m \u001b[0;32mas\u001b[0m \u001b[0mCats\u001b[0m\u001b[0;34m\u001b[0m\u001b[0m\n\u001b[0m",
      "\u001b[0;31mImportError\u001b[0m: No module named mnucosmomap"
     ]
    }
   ],
   "source": [
    "import numpy as np \n",
    "# --- mnucosmomap ---\n",
    "from mnucosmomap import catalogs as Cats"
   ]
  },
  {
   "cell_type": "markdown",
   "metadata": {},
   "source": [
    "Import initial conditions of realization 1 "
   ]
  },
  {
   "cell_type": "code",
   "execution_count": 2,
   "metadata": {},
   "outputs": [],
   "source": [
    "IC = Cats.mNuICs(1)"
   ]
  },
  {
   "cell_type": "code",
   "execution_count": 3,
   "metadata": {},
   "outputs": [],
   "source": [
    "x = IC['Position'][:,0]\n",
    "y = IC['Position'][:,1]\n",
    "z = IC['Position'][:,2]"
   ]
  },
  {
   "cell_type": "code",
   "execution_count": 4,
   "metadata": {},
   "outputs": [
    {
     "name": "stdout",
     "output_type": "stream",
     "text": [
      "Nparticle = 134217728\n"
     ]
    }
   ],
   "source": [
    "Npart = len(IC['ID'])\n",
    "print('Nparticle = %i' % Npart)"
   ]
  },
  {
   "cell_type": "code",
   "execution_count": 5,
   "metadata": {},
   "outputs": [
    {
     "name": "stdout",
     "output_type": "stream",
     "text": [
      "0.000000 < x < 1000.000000\n",
      "0.000001 < y < 1000.000000\n",
      "0.000000 < z < 1000.000000\n"
     ]
    }
   ],
   "source": [
    "print('%f < x < %f' % (x.min(), x.max()))\n",
    "print('%f < y < %f' % (y.min(), y.max()))\n",
    "print('%f < z < %f' % (z.min(), z.max()))"
   ]
  },
  {
   "cell_type": "code",
   "execution_count": 6,
   "metadata": {},
   "outputs": [
    {
     "name": "stdout",
     "output_type": "stream",
     "text": [
      "512.0\n"
     ]
    }
   ],
   "source": [
    "print Npart**(1./3.) "
   ]
  },
  {
   "cell_type": "markdown",
   "metadata": {},
   "source": [
    "Find all the particles in $(10\\,\\mathrm{Mpc})^3$ subbox"
   ]
  },
  {
   "cell_type": "code",
   "execution_count": 19,
   "metadata": {},
   "outputs": [],
   "source": [
    "i_x, i_y, i_z = 7, 6, 0"
   ]
  },
  {
   "cell_type": "code",
   "execution_count": 20,
   "metadata": {},
   "outputs": [],
   "source": [
    "L_subbox = 1000./8.\n",
    "L_halfres = 0.5 * 1000./512.\n",
    "xmin, xmax = L_subbox * float(i_x) + L_halfres, ((L_subbox * float(i_x+1) + L_halfres) % 1000.)\n",
    "ymin, ymax = L_subbox * float(i_y) + L_halfres, L_subbox * float(i_y+1) + L_halfres\n",
    "zmin, zmax = L_subbox * float(i_z) + L_halfres, L_subbox * float(i_z+1) + L_halfres\n",
    "if xmax < xmin: \n",
    "    xlim = ((x >= xmin) | (x < xmax))\n",
    "else: \n",
    "    xlim = ((x >= xmin) & (x < xmax))\n",
    "ylim = ((y >= ymin) & (y < ymax))\n",
    "zlim = ((z >= zmin) & (z < zmax))"
   ]
  },
  {
   "cell_type": "code",
   "execution_count": 21,
   "metadata": {},
   "outputs": [
    {
     "name": "stdout",
     "output_type": "stream",
     "text": [
      "875.9765625 0.9765625\n"
     ]
    }
   ],
   "source": [
    "print xmin, xmax"
   ]
  },
  {
   "cell_type": "code",
   "execution_count": 22,
   "metadata": {},
   "outputs": [
    {
     "name": "stdout",
     "output_type": "stream",
     "text": [
      "0.9765625 125.9765625\n"
     ]
    }
   ],
   "source": [
    "print xmin - i_x * (1000./8.), (xmax - i_x * (1000./8.)) % 1000."
   ]
  },
  {
   "cell_type": "code",
   "execution_count": 19,
   "metadata": {},
   "outputs": [
    {
     "name": "stdout",
     "output_type": "stream",
     "text": [
      "262144 particles in subox\n",
      "262144 particles SHOULD be in the subbox\n"
     ]
    }
   ],
   "source": [
    "insubbox = (xlim & ylim & zlim)\n",
    "print('%i particles in subox' % np.sum(insubbox))\n",
    "print('%i particles SHOULD be in the subbox' % (Npart/(8**3)))"
   ]
  },
  {
   "cell_type": "code",
   "execution_count": 59,
   "metadata": {},
   "outputs": [
    {
     "data": {
      "text/plain": [
       "(-1.0, 18.0)"
      ]
     },
     "execution_count": 59,
     "metadata": {},
     "output_type": "execute_result"
    },
    {
     "data": {
      "image/png": "[encoded data removed]",
      "text/plain": [
       "<Figure size 720x360 with 2 Axes>"
      ]
     },
     "metadata": {},
     "output_type": "display_data"
    }
   ],
   "source": [
    "fig = plt.figure(figsize=(10,5))\n",
    "sub = fig.add_subplot(121)\n",
    "sub.scatter(x[insubbox], y[insubbox])\n",
    "#sub.scatter(x[near_subbox], y[near_subbox] - 1000.)\n",
    "sub.set_xlabel('X', fontsize=25)\n",
    "sub.set_xlim([-1., 18.])\n",
    "sub.set_ylabel('Y', fontsize=25)\n",
    "sub.set_ylim([-1., 18.])\n",
    "\n",
    "sub = fig.add_subplot(122)\n",
    "sub.scatter(z[insubbox], y[insubbox])\n",
    "#sub.scatter(z[near_subbox], y[near_subbox] - 1000.)\n",
    "sub.set_xlabel('Z', fontsize=25)\n",
    "sub.set_xlim([-1., 18.])\n",
    "sub.set_ylabel('Y', fontsize=25)\n",
    "sub.set_ylim([-1., 18.])"
   ]
  },
  {
   "cell_type": "code",
   "execution_count": 56,
   "metadata": {},
   "outputs": [],
   "source": [
    "for i_x in range(8): \n",
    "    for i_y in range(8): \n",
    "        for i_z in range(8): \n",
    "            insubbox = (\n",
    "                (x > i_x * (1000./64.) + 1.) & (x < (i_x+1) * (1000./64.) + 1.) & \n",
    "                (y > i_y * (1000./64.) + 1.) & (y < (i_y+1) * (1000./64.) + 1.) &\n",
    "                (z > i_z * (1000./64.) + 1.) & (z < (i_z+1) * (1000./64.) + 1.))\n",
    "            if np.sum(insubbox) != 512: \n",
    "                print('%i particles in subox' % np.sum(insubbox))\n",
    "                print('%i, %i, %i' % (i_x, i_y, i_z))"
   ]
  },
  {
   "cell_type": "code",
   "execution_count": 60,
   "metadata": {},
   "outputs": [],
   "source": [
    "parts = Cats.mNuParticles(0.0, 1, 2)"
   ]
  },
  {
   "cell_type": "code",
   "execution_count": 64,
   "metadata": {},
   "outputs": [],
   "source": [
    "i_ic_sorted = np.argsort(IC['ID'])\n",
    "i_part_sorted = np.argsort(parts['ID'])"
   ]
  },
  {
   "cell_type": "code",
   "execution_count": 65,
   "metadata": {},
   "outputs": [
    {
     "name": "stdout",
     "output_type": "stream",
     "text": [
      "[        1         2         3 ... 134217726 134217727 134217728]\n",
      "[        1         2         3 ... 134217726 134217727 134217728]\n"
     ]
    }
   ],
   "source": [
    "print IC['ID'][i_ic_sorted]\n",
    "print parts['ID'][i_part_sorted]"
   ]
  },
  {
   "cell_type": "code",
   "execution_count": 66,
   "metadata": {},
   "outputs": [
    {
     "name": "stdout",
     "output_type": "stream",
     "text": [
      "True\n"
     ]
    }
   ],
   "source": [
    "print np.array_equal(IC['ID'][i_ic_sorted], parts['ID'][i_part_sorted])"
   ]
  },
  {
   "cell_type": "code",
   "execution_count": 67,
   "metadata": {},
   "outputs": [
    {
     "name": "stdout",
     "output_type": "stream",
     "text": [
      "True\n"
     ]
    }
   ],
   "source": [
    "print np.array_equal(IC['ID'][i_ic_sorted], np.arange(1, Npart+1))"
   ]
  },
  {
   "cell_type": "code",
   "execution_count": null,
   "metadata": {},
   "outputs": [],
   "source": [
    "firstten = [] \n",
    "for i in range(1,11): \n",
    "    firstten.append(np.arange(Npart)[box['ID']==i][0])\n",
    "    \n",
    "nextten = [] \n",
    "for i in range(512,523): \n",
    "    nextten.append(np.arange(Npart)[box['ID']==i][0])"
   ]
  },
  {
   "cell_type": "code",
   "execution_count": null,
   "metadata": {},
   "outputs": [],
   "source": [
    "fig = plt.figure()\n",
    "sub = fig.add_subplot(121)\n",
    "sub.scatter(x[firstten], y[firstten])\n",
    "sub.scatter(x[nextten], y[nextten])\n",
    "sub.set_xlim([0., 1000.])\n",
    "sub.set_ylim([0., 1000.])\n",
    "sub = fig.add_subplot(122)\n",
    "sub.scatter(x[firstten], z[firstten])\n",
    "sub.scatter(x[nextten], z[nextten])\n",
    "sub.set_xlim([0., 1000.])\n",
    "sub.set_ylim([0., 1000.])"
   ]
  },
  {
   "cell_type": "code",
   "execution_count": null,
   "metadata": {},
   "outputs": [],
   "source": [
    "print x[firstten]\n",
    "print y[firstten]\n",
    "print z[firstten]"
   ]
  },
  {
   "cell_type": "code",
   "execution_count": null,
   "metadata": {},
   "outputs": [],
   "source": [
    "print x[nextten]\n",
    "print y[nextten]\n",
    "print z[nextten]"
   ]
  },
  {
   "cell_type": "code",
   "execution_count": null,
   "metadata": {},
   "outputs": [],
   "source": []
  }
 ],
 "metadata": {
  "kernelspec": {
   "display_name": "Python 2",
   "language": "python",
   "name": "python2"
  },
  "language_info": {
   "codemirror_mode": {
    "name": "ipython",
    "version": 2
   },
   "file_extension": ".py",
   "mimetype": "text/x-python",
   "name": "python",
   "nbconvert_exporter": "python",
   "pygments_lexer": "ipython2",
   "version": "2.7.13"
  }
 },
 "nbformat": 4,
 "nbformat_minor": 2
}
