{
 "cells": [
  {
   "cell_type": "markdown",
   "metadata": {},
   "source": [
    "Trying to figure out the displacement field of Paco's simulations"
   ]
  },
  {
   "cell_type": "code",
   "execution_count": 1,
   "metadata": {},
   "outputs": [],
   "source": [
    "from mnucosmomap import catalogs as Cats"
   ]
  },
  {
   "cell_type": "code",
   "execution_count": 4,
   "metadata": {},
   "outputs": [],
   "source": [
    "box = Cats.mNuParticles(0.0, 1, 2)"
   ]
  },
  {
   "cell_type": "code",
   "execution_count": 12,
   "metadata": {},
   "outputs": [],
   "source": [
    "x = box['Position'][:,0]\n",
    "y = box['Position'][:,1]\n",
    "z = box['Position'][:,2]"
   ]
  },
  {
   "cell_type": "code",
   "execution_count": 5,
   "metadata": {},
   "outputs": [
    {
     "name": "stdout",
     "output_type": "stream",
     "text": [
      "Nparticle = 134217728\n"
     ]
    }
   ],
   "source": [
    "Npart = len(box['ID'])\n",
    "print('Nparticle = %i' % Npart)"
   ]
  },
  {
   "cell_type": "code",
   "execution_count": 21,
   "metadata": {},
   "outputs": [
    {
     "data": {
      "text/plain": [
       "134217728"
      ]
     },
     "execution_count": 21,
     "metadata": {},
     "output_type": "execute_result"
    }
   ],
   "source": [
    "512**3"
   ]
  },
  {
   "cell_type": "code",
   "execution_count": 22,
   "metadata": {},
   "outputs": [],
   "source": [
    "firstten = [] \n",
    "for i in range(1,11): \n",
    "    firstten.append(np.arange(Npart)[box['ID']==i][0])\n",
    "    \n",
    "nextten = [] \n",
    "for i in range(512,523): \n",
    "    nextten.append(np.arange(Npart)[box['ID']==i][0])"
   ]
  },
  {
   "cell_type": "code",
   "execution_count": 24,
   "metadata": {},
   "outputs": [
    {
     "data": {
      "text/plain": [
       "(0.0, 1000.0)"
      ]
     },
     "execution_count": 24,
     "metadata": {},
     "output_type": "execute_result"
    },
    {
     "data": {
      "image/png": "[encoded data removed]",
      "text/plain": [
       "<Figure size 432x288 with 2 Axes>"
      ]
     },
     "metadata": {},
     "output_type": "display_data"
    }
   ],
   "source": [
    "fig = plt.figure()\n",
    "sub = fig.add_subplot(121)\n",
    "sub.scatter(x[firstten], y[firstten])\n",
    "sub.scatter(x[nextten], y[nextten])\n",
    "sub.set_xlim([0., 1000.])\n",
    "sub.set_ylim([0., 1000.])\n",
    "sub = fig.add_subplot(122)\n",
    "sub.scatter(x[firstten], z[firstten])\n",
    "sub.scatter(x[nextten], z[nextten])\n",
    "sub.set_xlim([0., 1000.])\n",
    "sub.set_ylim([0., 1000.])"
   ]
  },
  {
   "cell_type": "code",
   "execution_count": 18,
   "metadata": {},
   "outputs": [
    {
     "name": "stdout",
     "output_type": "stream",
     "text": [
      "[0.7370189 0.8600539 1.5562236 1.4499043 2.824371  3.5212333 4.4103317\n",
      " 5.3262944 6.0317435 6.4412546]\n",
      "[998.51904 997.87195 997.62933 997.61786 997.5128  997.849   998.13995\n",
      " 998.4326  998.25464 997.86383]\n",
      "[999.1399      1.4386576   2.3198402   2.5830061   5.886414    8.135788\n",
      "  10.538168   12.877108   15.915964   19.64014  ]\n"
     ]
    }
   ],
   "source": [
    "print x[firstten]\n",
    "print y[firstten]\n",
    "print z[firstten]"
   ]
  },
  {
   "cell_type": "code",
   "execution_count": 25,
   "metadata": {},
   "outputs": [
    {
     "name": "stdout",
     "output_type": "stream",
     "text": [
      "[4.885852  4.585455  3.9632459 4.2831717 4.576708  5.463743  5.549875\n",
      " 5.684557  5.8924327 6.639235  7.6384354]\n",
      "[10.300094  15.124882  14.911854  15.134577  15.03049   15.985149\n",
      " 16.031338  15.910175  15.7527895 16.030382  16.694746 ]\n",
      "[125.16786   999.6313      2.4155552   2.323841    5.9727893   8.826197\n",
      "   8.549529    9.187731   12.782293   15.894154   18.819342 ]\n"
     ]
    }
   ],
   "source": [
    "print x[nextten]\n",
    "print y[nextten]\n",
    "print z[nextten]"
   ]
  },
  {
   "cell_type": "code",
   "execution_count": null,
   "metadata": {},
   "outputs": [],
   "source": []
  }
 ],
 "metadata": {
  "kernelspec": {
   "display_name": "Python 2",
   "language": "python",
   "name": "python2"
  },
  "language_info": {
   "codemirror_mode": {
    "name": "ipython",
    "version": 2
   },
   "file_extension": ".py",
   "mimetype": "text/x-python",
   "name": "python",
   "nbconvert_exporter": "python",
   "pygments_lexer": "ipython2",
   "version": "2.7.14"
  }
 },
 "nbformat": 4,
 "nbformat_minor": 2
}
